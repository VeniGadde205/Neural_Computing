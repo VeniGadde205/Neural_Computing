{
 "cells": [
  {
   "cell_type": "code",
   "execution_count": 7,
   "metadata": {
    "id": "CzlOdaugnb_U"
   },
   "outputs": [],
   "source": [
    "import tensorflow as tf"
   ]
  },
  {
   "cell_type": "code",
   "execution_count": 10,
   "metadata": {
    "id": "o5WFh4uQnb_W"
   },
   "outputs": [],
   "source": [
    "from tensorflow import keras\n",
    "from keras.layers import Input, Dense\n",
    "from keras.models import Model\n",
    "from keras.datasets import mnist\n",
    "import numpy as np\n",
    "(x_train, _), (x_test, _) = mnist.load_data()"
   ]
  },
  {
   "cell_type": "code",
   "execution_count": 12,
   "metadata": {
    "id": "tSQUNzNWnb_X"
   },
   "outputs": [
    {
     "data": {
      "image/png": "[encoded data removed]",
      "text/plain": [
       "<Figure size 200x200 with 10 Axes>"
      ]
     },
     "metadata": {},
     "output_type": "display_data"
    }
   ],
   "source": [
    "import matplotlib.pyplot as plt\n",
    "%matplotlib inline\n",
    "\n",
    "n = 10  # how many records we will display\n",
    "plt.figure(figsize=(2, 2))\n",
    "for i in range(n):\n",
    "    # display original\n",
    "    ax = plt.subplot(2, n, i + 1)\n",
    "    plt.imshow(x_test[i].reshape(28, 28))\n",
    "    plt.gray()\n",
    "    ax.get_xaxis().set_visible(False)\n",
    "    ax.get_yaxis().set_visible(False)\n",
    "\n",
    "plt.show()"
   ]
  },
  {
   "cell_type": "markdown",
   "metadata": {
    "id": "opSUZNsCnb_X"
   },
   "source": [
    "![image.png](attachment:image.png)"
   ]
  },
  {
   "cell_type": "code",
   "execution_count": 14,
   "metadata": {
    "id": "b893a54bnb_Y"
   },
   "outputs": [],
   "source": [
    "from tensorflow.keras.models import Sequential, Model\n",
    "from tensorflow.keras.layers import Dense, Conv2D, MaxPool2D, Flatten, UpSampling2D, Reshape"
   ]
  },
  {
   "cell_type": "code",
   "execution_count": 21,
   "metadata": {
    "id": "invEZgj8nb_Z"
   },
   "outputs": [],
   "source": [
    "encode_model = Sequential()\n",
    "\n",
    "############\n",
    "# Encoding #\n",
    "############\n",
    "\n",
    "## FIRST SET OF LAYERS\n",
    "# CONVOLUTIONAL LAYER\n",
    "encode_model.add(Conv2D(filters=16, kernel_size=(3,3), input_shape=(28, 28, 1), activation='relu', padding='same'))\n",
    "# POOLING LAYER\n",
    "encode_model.add(MaxPool2D(pool_size=(2, 2),  padding='same'))\n",
    "\n",
    "## SECOND SET OF LAYERS\n",
    "# CONVOLUTIONAL LAYER\n",
    "encode_model.add(Conv2D(filters=8, kernel_size=(3,3), activation = 'relu', padding='same'))\n",
    "# POOLING LAYER\n",
    "encode_model.add(MaxPool2D(pool_size=(2, 2),  padding='same'))\n",
    "\n",
    "## THIRD SET OF LAYERS\n",
    "# CONVOLUTIONAL LAYER\n",
    "#encode_model.add(Conv2D(filters=8, kernel_size=(3,3), activation='relu', padding='same'))\n",
    "# POOLING LAYER\n",
    "#encode_model.add(MaxPool2D(pool_size=(2, 2), padding='valid'))\n",
    "encode_model.add(Flatten(input_shape=[7,7,8]))\n",
    "encode_model.add(Dense(7*7*8, activation=\"relu\"))\n",
    "encode_model.add(Dense(30, activation=\"relu\"))"
   ]
  },
  {
   "cell_type": "code",
   "execution_count": 22,
   "metadata": {
    "id": "Fchfz3Ffnb_Z"
   },
   "outputs": [],
   "source": [
    "############\n",
    "# Decoding #\n",
    "############\n",
    "decode_model=Sequential()\n",
    "\n",
    "# DeConv1\n",
    "#decode_model.add(Conv2D(filters=8, kernel_size=(3,3), activation='relu', padding='same'))\n",
    "# Upsampling LAYER\n",
    "#decode_model.add(UpSampling2D((2, 2)))\n",
    "\n",
    "decode_model.add(Dense(7*7*8,activation=\"relu\"))\n",
    "decode_model.add(Reshape([7,7,8]))\n",
    "\n",
    "# DeConv2\n",
    "decode_model.add(Conv2D(filters=8, kernel_size=(3,3), activation='relu', padding='same'))\n",
    "# Upsampling LAYER\n",
    "decode_model.add(UpSampling2D((2, 2)))\n",
    "\n",
    "# Deconv3\n",
    "decode_model.add(Conv2D(filters=16, kernel_size=(3,3), activation='relu', padding='same'))\n",
    "# POOLING LAYER\n",
    "decode_model.add(UpSampling2D((2, 2)))\n",
    "\n",
    "decode_model.add(Conv2D(1, kernel_size=(3,3), activation='sigmoid', padding='same'))\n"
   ]
  },
  {
   "cell_type": "code",
   "execution_count": 24,
   "metadata": {
    "id": "Mw9Mcq5dnb_Z"
   },
   "outputs": [],
   "source": [
    "autoencoder = Sequential([encode_model, decode_model])"
   ]
  },
  {
   "cell_type": "code",
   "execution_count": 26,
   "metadata": {
    "id": "IvdkGvSNnb_a"
   },
   "outputs": [],
   "source": [
    "autoencoder.compile(optimizer='adadelta', loss='binary')"
   ]
  },
  {
   "cell_type": "code",
   "execution_count": 29,
   "metadata": {
    "id": "WiUMMYDfnb_a"
   },
   "outputs": [
    {
     "name": "stdout",
     "output_type": "stream",
     "text": [
      "Model: \"sequential_9\"\n",
      "_________________________________________________________________\n",
      " Layer (type)                Output Shape              Param #   \n",
      "=================================================================\n",
      " sequential_7 (Sequential)   (None, 30)                167166    \n",
      "                                                                 \n",
      " sequential_8 (Sequential)   (None, 28, 28, 1)         14049     \n",
      "                                                                 \n",
      "=================================================================\n",
      "Total params: 181215 (707.87 KB)\n",
      "Trainable params: 181215 (707.87 KB)\n",
      "Non-trainable params: 0 (0.00 Byte)\n",
      "_________________________________________________________________\n"
     ]
    }
   ],
   "source": [
    "autoencoder.summary()"
   ]
  },
  {
   "cell_type": "code",
   "execution_count": 30,
   "metadata": {
    "id": "FieERwXBnb_b"
   },
   "outputs": [
    {
     "name": "stdout",
     "output_type": "stream",
     "text": [
      "Model: \"sequential_7\"\n",
      "_________________________________________________________________\n",
      " Layer (type)                Output Shape              Param #   \n",
      "=================================================================\n",
      " conv2d_10 (Conv2D)          (None, 28, 28, 16)        160       \n",
      "                                                                 \n",
      " max_pooling2d_9 (MaxPoolin  (None, 14, 14, 16)        0         \n",
      " g2D)                                                            \n",
      "                                                                 \n",
      " conv2d_11 (Conv2D)          (None, 14, 14, 8)         1160      \n",
      "                                                                 \n",
      " max_pooling2d_10 (MaxPooli  (None, 7, 7, 8)           0         \n",
      " ng2D)                                                           \n",
      "                                                                 \n",
      " flatten (Flatten)           (None, 392)               0         \n",
      "                                                                 \n",
      " dense (Dense)               (None, 392)               154056    \n",
      "                                                                 \n",
      " dense_1 (Dense)             (None, 30)                11790     \n",
      "                                                                 \n",
      "=================================================================\n",
      "Total params: 167166 (652.99 KB)\n",
      "Trainable params: 167166 (652.99 KB)\n",
      "Non-trainable params: 0 (0.00 Byte)\n",
      "_________________________________________________________________\n"
     ]
    }
   ],
   "source": [
    "encode_model.summary()"
   ]
  },
  {
   "cell_type": "code",
   "execution_count": 31,
   "metadata": {
    "id": "-uToDopqnb_b"
   },
   "outputs": [
    {
     "name": "stdout",
     "output_type": "stream",
     "text": [
      "Model: \"sequential_8\"\n",
      "_________________________________________________________________\n",
      " Layer (type)                Output Shape              Param #   \n",
      "=================================================================\n",
      " dense_2 (Dense)             (None, 392)               12152     \n",
      "                                                                 \n",
      " reshape (Reshape)           (None, 7, 7, 8)           0         \n",
      "                                                                 \n",
      " conv2d_12 (Conv2D)          (None, 7, 7, 8)           584       \n",
      "                                                                 \n",
      " up_sampling2d (UpSampling2  (None, 14, 14, 8)         0         \n",
      " D)                                                              \n",
      "                                                                 \n",
      " conv2d_13 (Conv2D)          (None, 14, 14, 16)        1168      \n",
      "                                                                 \n",
      " up_sampling2d_1 (UpSamplin  (None, 28, 28, 16)        0         \n",
      " g2D)                                                            \n",
      "                                                                 \n",
      " conv2d_14 (Conv2D)          (None, 28, 28, 1)         145       \n",
      "                                                                 \n",
      "=================================================================\n",
      "Total params: 14049 (54.88 KB)\n",
      "Trainable params: 14049 (54.88 KB)\n",
      "Non-trainable params: 0 (0.00 Byte)\n",
      "_________________________________________________________________\n"
     ]
    }
   ],
   "source": [
    "decode_model.summary()"
   ]
  },
  {
   "cell_type": "code",
   "execution_count": 34,
   "metadata": {
    "colab": {
     "base_uri": "https://localhost:8080/"
    },
    "id": "YLekt0eMnb_b",
    "outputId": "58650c48-9359-4e37-ad71-99a5f37d3072"
   },
   "outputs": [
    {
     "data": {
      "text/plain": [
       "(60000, 28, 28, 1)"
      ]
     },
     "execution_count": 34,
     "metadata": {},
     "output_type": "execute_result"
    }
   ],
   "source": [
    "x_train = x_train.reshape(60000,28,28,1)\n",
    "x_train = x_train/255\n",
    "x_train.shape"
   ]
  },
  {
   "cell_type": "code",
   "execution_count": 35,
   "metadata": {
    "id": "PfSZaCCEnb_b"
   },
   "outputs": [
    {
     "data": {
      "text/plain": [
       "(10000, 28, 28, 1)"
      ]
     },
     "execution_count": 35,
     "metadata": {},
     "output_type": "execute_result"
    }
   ],
   "source": [
    "x_test = x_test.reshape(10000, 28, 28, 1)\n",
    "x_test = x_test/255\n",
    "x_test.shape"
   ]
  },
  {
   "cell_type": "code",
   "execution_count": 41,
   "metadata": {
    "id": "0kDxggwUnb_b"
   },
   "outputs": [
    {
     "name": "stdout",
     "output_type": "stream",
     "text": [
      "Epoch 1/10\n",
      "469/469 [==============================] - 33s 68ms/step - loss: 0.0379 - accuracy: 0.8079 - val_loss: 6.5684 - val_accuracy: 0.8072\n",
      "Epoch 2/10\n",
      "469/469 [==============================] - 32s 69ms/step - loss: 3.6839e-05 - accuracy: 0.8088 - val_loss: 3.7104 - val_accuracy: 0.8072\n",
      "Epoch 3/10\n",
      "469/469 [==============================] - 34s 73ms/step - loss: 2.7984e-05 - accuracy: 0.8088 - val_loss: 3.5557 - val_accuracy: 0.8072\n",
      "Epoch 4/10\n",
      "469/469 [==============================] - 32s 68ms/step - loss: 2.7579e-05 - accuracy: 0.8088 - val_loss: 3.5360 - val_accuracy: 0.8072\n",
      "Epoch 5/10\n",
      "469/469 [==============================] - 32s 67ms/step - loss: 2.7422e-05 - accuracy: 0.8088 - val_loss: 3.5031 - val_accuracy: 0.8072\n",
      "Epoch 6/10\n",
      "469/469 [==============================] - 32s 68ms/step - loss: 2.7285e-05 - accuracy: 0.8088 - val_loss: 3.4715 - val_accuracy: 0.8072\n",
      "Epoch 7/10\n",
      "469/469 [==============================] - 31s 67ms/step - loss: 2.7162e-05 - accuracy: 0.8088 - val_loss: 3.4528 - val_accuracy: 0.8072\n",
      "Epoch 8/10\n",
      "469/469 [==============================] - 32s 69ms/step - loss: 2.7055e-05 - accuracy: 0.8088 - val_loss: 3.4244 - val_accuracy: 0.8072\n",
      "Epoch 9/10\n",
      "469/469 [==============================] - 32s 68ms/step - loss: 2.6972e-05 - accuracy: 0.8088 - val_loss: 3.4181 - val_accuracy: 0.8072\n",
      "Epoch 10/10\n",
      "469/469 [==============================] - 32s 69ms/step - loss: 2.6917e-05 - accuracy: 0.8088 - val_loss: 3.4015 - val_accuracy: 0.8072\n"
     ]
    },
    {
     "data": {
      "text/plain": [
       "<keras.src.callbacks.History at 0x1d607960880>"
      ]
     },
     "execution_count": 41,
     "metadata": {},
     "output_type": "execute_result"
    }
   ],
   "source": [
    "# Train the model\n",
    "autoencoder.compile(loss='binary_crossentropy',\n",
    "              optimizer='adam',\n",
    "              metrics=['accuracy'])\n",
    "autoencoder.fit(x_train, x_train,epochs=10,validation_data=(x_test, x_test),batch_size=128, shuffle=True, verbose=1)"
   ]
  },
  {
   "cell_type": "code",
   "execution_count": 46,
   "metadata": {
    "id": "yBM1A98snb_b"
   },
   "outputs": [
    {
     "name": "stdout",
     "output_type": "stream",
     "text": [
      "313/313 [==============================] - 2s 7ms/step\n"
     ]
    },
    {
     "data": {
      "image/png": "[encoded data removed]",
      "text/plain": [
       "<Figure size 2000x400 with 20 Axes>"
      ]
     },
     "metadata": {},
     "output_type": "display_data"
    }
   ],
   "source": [
    "decoded_imgs = autoencoder.predict(x_test)\n",
    "\n",
    "n = 10\n",
    "\n",
    "plt.figure(figsize=(20, 4))\n",
    "for i in range(n):\n",
    "    # display original\n",
    "    ax = plt.subplot(2, n, i + 1)\n",
    "    plt.imshow(x_test[i].reshape(28, 28))\n",
    "    plt.gray()\n",
    "    ax.get_xaxis().set_visible(False)\n",
    "    ax.get_yaxis().set_visible(False)\n",
    "\n",
    "    # display reconstruction\n",
    "    ax = plt.subplot(2, n, i+1+n)\n",
    "    plt.imshow(decoded_imgs[i].reshape(28, 28))\n",
    "    plt.gray()\n",
    "    ax.get_xaxis().set_visible(False)\n",
    "    ax.get_yaxis().set_visible(False)\n"
   ]
  },
  {
   "cell_type": "code",
   "execution_count": null,
   "metadata": {},
   "outputs": [],
   "source": []
  }
 ],
 "metadata": {
  "colab": {
   "provenance": []
  },
  "kernelspec": {
   "display_name": "Python 3 (ipykernel)",
   "language": "python",
   "name": "python3"
  },
  "language_info": {
   "codemirror_mode": {
    "name": "ipython",
    "version": 3
   },
   "file_extension": ".py",
   "mimetype": "text/x-python",
   "name": "python",
   "nbconvert_exporter": "python",
   "pygments_lexer": "ipython3",
   "version": "3.11.4"
  }
 },
 "nbformat": 4,
 "nbformat_minor": 1
}
